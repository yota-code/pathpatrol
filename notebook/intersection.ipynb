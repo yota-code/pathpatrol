{
 "cells": [
  {
   "cell_type": "code",
   "execution_count": null,
   "metadata": {},
   "outputs": [],
   "source": [
    "%matplotlib inline\n",
    "\n",
    "import matplotlib.pyplot as plt\n",
    "\n",
    "import sympy\n",
    "\n",
    "ax, ay, bx, by = sympy.symbols(\"a_x a_y b_x b_y\")\n",
    "cx, cy, dx, dy = sympy.symbols(\"c_x c_y d_x d_y\")\n",
    "tab, tcd = sympy.symbols(\"t_ab t_cd\")"
   ]
  },
  {
   "cell_type": "code",
   "execution_count": null,
   "metadata": {},
   "outputs": [],
   "source": [
    "ux = ax * (1 - tab) + bx * tab\n",
    "uy = ay * (1 - tab) + by * tab\n",
    "vx = cx * (1 - tcd) + dx * tcd\n",
    "vy = cy * (1 - tcd) + dy * tcd"
   ]
  },
  {
   "cell_type": "code",
   "execution_count": null,
   "metadata": {},
   "outputs": [],
   "source": [
    "z = sympy.solve([ux - vx, uy - vy], [tab, tcd])\n",
    "z[tab]"
   ]
  },
  {
   "cell_type": "code",
   "execution_count": null,
   "metadata": {},
   "outputs": [],
   "source": [
    "z[tcd]"
   ]
  },
  {
   "cell_type": "code",
   "execution_count": null,
   "metadata": {},
   "outputs": [],
   "source": [
    "((ax*cy - ax*dy - ay*cx + ay*dx - bx*cy + bx*dy + by*cx - by*dx) - (\n",
    "    (ax - bx)*(cy - dy) - (ay - by)*(cx - dx)\n",
    ")).expand()"
   ]
  },
  {
   "cell_type": "code",
   "execution_count": null,
   "metadata": {},
   "outputs": [],
   "source": [
    "v_map = {\n",
    "    'a_x': 0.0, 'a_y': 0.0, 'b_x': 1.0, 'b_y': 1.0,\n",
    "    'c_x': 0.2, 'c_y': 0.8, 'd_x': 0.6, 'd_y': 0.3\n",
    "}\n",
    "def v(exp) :\n",
    "    return float(exp.subs(v_map))"
   ]
  },
  {
   "cell_type": "code",
   "execution_count": null,
   "metadata": {},
   "outputs": [],
   "source": [
    "plt.figure()\n",
    "plt.plot([v(ax), v(bx)], [v(ay), v(by)])\n",
    "plt.plot([v(cx), v(dx)], [v(cy), v(dy)])\n",
    "plt.plot([v(ux.subs({'t_ab': z[tab]})),], [v(uy.subs({'t_ab': z[tab]})),], 'o')\n",
    "plt.plot([v(vx.subs({'t_cd': z[tcd]})),], [v(vy.subs({'t_cd': z[tcd]})),], 'o')\n",
    "plt.grid()\n",
    "plt.show()"
   ]
  },
  {
   "cell_type": "code",
   "execution_count": null,
   "metadata": {},
   "outputs": [],
   "source": [
    "v(z[tab])"
   ]
  },
  {
   "cell_type": "code",
   "execution_count": null,
   "metadata": {},
   "outputs": [],
   "source": [
    "v(z[tcd])"
   ]
  }
 ],
 "metadata": {
  "kernelspec": {
   "display_name": "Python 3",
   "language": "python",
   "name": "python3"
  },
  "language_info": {
   "codemirror_mode": {
    "name": "ipython",
    "version": 3
   },
   "file_extension": ".py",
   "mimetype": "text/x-python",
   "name": "python",
   "nbconvert_exporter": "python",
   "pygments_lexer": "ipython3",
   "version": "3.8.10"
  },
  "vscode": {
   "interpreter": {
    "hash": "916dbcbb3f70747c44a77c7bcd40155683ae19c65e1c03b4aa3499c5328201f1"
   }
  }
 },
 "nbformat": 4,
 "nbformat_minor": 2
}
